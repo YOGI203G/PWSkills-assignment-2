{
 "cells": [
  {
   "cell_type": "code",
   "execution_count": 1,
   "id": "c380dadd-a792-47b7-aef3-84503096b846",
   "metadata": {},
   "outputs": [
    {
     "name": "stdin",
     "output_type": "stream",
     "text": [
      "enter your percentage:  95\n"
     ]
    },
    {
     "name": "stdout",
     "output_type": "stream",
     "text": [
      "A\n"
     ]
    }
   ],
   "source": [
    "#QUS1\n",
    "\n",
    "marks= int(input(\"enter your percentage: \"))\n",
    "\n",
    "if marks>90:\n",
    "    print(\"A\")\n",
    "    \n",
    "elif marks>80 and marks<=90:\n",
    "    print(\"B\")\n",
    "        \n",
    "elif marks>=60 and marks<80:\n",
    "    print(\"C\")\n",
    "            \n",
    "else:\n",
    "    print(\"D\")"
   ]
  },
  {
   "cell_type": "code",
   "execution_count": 2,
   "id": "c295bb72-b1e3-44a4-92e1-74a517c54ea8",
   "metadata": {},
   "outputs": [
    {
     "name": "stdin",
     "output_type": "stream",
     "text": [
      "enter the cost price of bike and display 5764867\n"
     ]
    },
    {
     "name": "stdout",
     "output_type": "stream",
     "text": [
      "15%\n"
     ]
    }
   ],
   "source": [
    "#QUS2\n",
    "\n",
    "costpriceofbike=int(input(\"enter the cost price of bike and display\"))\n",
    "if costpriceofbike>100000:\n",
    "    print(\"15%\")\n",
    "elif costpriceofbike>50000 and costpriceofbike<=100000:\n",
    "    print(\"10%\")\n",
    "elif costpriceofbike<=50000:\n",
    "    print(\"5%\")\n",
    "else:\n",
    "    print(\"no tax\")"
   ]
  },
  {
   "cell_type": "code",
   "execution_count": 3,
   "id": "7bd703a0-1a2b-4eca-a00b-250a02fcd026",
   "metadata": {},
   "outputs": [
    {
     "name": "stdin",
     "output_type": "stream",
     "text": [
      "enter the city name delhi\n"
     ]
    },
    {
     "name": "stdout",
     "output_type": "stream",
     "text": [
      "red fort\n"
     ]
    }
   ],
   "source": [
    "#QUS3\n",
    "\n",
    "city=input(\"enter the city name\")\n",
    "if city== \"delhi\":\n",
    "    print(\"red fort\")\n",
    "elif city== \"agra\":\n",
    "    print(\"taj mahal\")\n",
    "elif city== \"jaipur\":\n",
    "    print(\"jal mahal\")"
   ]
  },
  {
   "cell_type": "code",
   "execution_count": 1,
   "id": "8cabd21b-efcd-406d-b65f-868319de0ac3",
   "metadata": {},
   "outputs": [
    {
     "name": "stdout",
     "output_type": "stream",
     "text": [
      "number\n",
      "number\n",
      "number\n",
      "number\n",
      "number\n",
      "number\n",
      "number\n",
      "number\n",
      "number\n",
      "number\n"
     ]
    }
   ],
   "source": [
    "#QUS5\n",
    "\n",
    "#WHY TO USE AND WHEN TO USE\n",
    "\n",
    "#Python while loop is used to run a block code until a certain condition is met. \n",
    "#Here, A while loop evaluates the condition. \n",
    "#If the condition evaluates to True , the code inside the while loop is executed.\n",
    "\n",
    "#Example\n",
    "\n",
    "number = 1\n",
    "while number <= 10:\n",
    "    print(\"number\")\n",
    "    number = number + 1\n",
    "\n",
    "\n",
    "# In this example, the while loop will run as long as\n",
    "# the value of number is less than or equal to 10.\n",
    "# On each iteration of the loop, the value of number is printed,\n",
    "# and then incremented by 1.\n",
    "# The loop will exit when the value of number becomes greater than 10."
   ]
  },
  {
   "cell_type": "code",
   "execution_count": 2,
   "id": "33bd78e4-b0b9-476d-a316-30acb484a1cc",
   "metadata": {},
   "outputs": [
    {
     "name": "stdin",
     "output_type": "stream",
     "text": [
      "enter the number of rows: 8\n"
     ]
    },
    {
     "name": "stdout",
     "output_type": "stream",
     "text": [
      "* \n",
      "* * \n",
      "* * * \n",
      "* * * * \n",
      "* * * * * \n",
      "* * * * * * \n",
      "* * * * * * * \n",
      "* * * * * * * * \n"
     ]
    },
    {
     "name": "stdin",
     "output_type": "stream",
     "text": [
      "enter the number of rows: 9\n"
     ]
    },
    {
     "name": "stdout",
     "output_type": "stream",
     "text": [
      "1 \n",
      "1 2 \n",
      "1 2 3 \n",
      "1 2 3 4 \n",
      "1 2 3 4 5 \n",
      "1 2 3 4 5 6 \n",
      "1 2 3 4 5 6 7 \n",
      "1 2 3 4 5 6 7 8 \n",
      "1 2 3 4 5 6 7 8 9 \n"
     ]
    },
    {
     "name": "stdin",
     "output_type": "stream",
     "text": [
      "enter the number of rows: 7\n"
     ]
    },
    {
     "name": "stdout",
     "output_type": "stream",
     "text": [
      "* \n",
      "* \n",
      "* \n",
      "* \n",
      "* \n",
      "* \n",
      "* \n"
     ]
    }
   ],
   "source": [
    "#QUS6\n",
    "#pattern 1\n",
    "num= int(input(\"enter the number of rows:\"))\n",
    "i=1\n",
    "while i<=num:\n",
    "    j=1\n",
    "    while j<=i:\n",
    "        print(\"*\" , end = \" \")\n",
    "        j +=1\n",
    "    print()\n",
    "    i +=1\n",
    "    \n",
    "#pattern 2\n",
    "num= int(input(\"enter the number of rows:\"))\n",
    "i=1\n",
    "while i<=num:\n",
    "    j=1\n",
    "    while j<=i:\n",
    "        print(j,end=\" \")\n",
    "        j +=1\n",
    "    print()\n",
    "    i +=1\n",
    "    \n",
    "#pattern 3\n",
    "num = int(input(\"enter the number of rows:\"))\n",
    "i=1\n",
    "while i<=num:\n",
    "    j=num\n",
    "    while j>=i:\n",
    "        print(\"*\" ,end = \" \")\n",
    "        j -=1\n",
    "        print()\n",
    "        i +=1"
   ]
  },
  {
   "cell_type": "code",
   "execution_count": 3,
   "id": "579a6fd1-66a7-4f7b-b0eb-fe24f624247b",
   "metadata": {},
   "outputs": [
    {
     "name": "stdout",
     "output_type": "stream",
     "text": [
      "10\n",
      "9\n",
      "8\n",
      "7\n",
      "6\n",
      "5\n",
      "4\n",
      "3\n",
      "2\n",
      "1\n"
     ]
    }
   ],
   "source": [
    "#QUS7\n",
    "upperBound=10\n",
    "lowerBound=1\n",
    "while upperBound>=lowerBound:\n",
    "    print(upperBound)\n",
    "    upperBound -=1"
   ]
  },
  {
   "cell_type": "code",
   "execution_count": null,
   "id": "feaee16d-2903-4d46-b602-22a6b19b9aea",
   "metadata": {},
   "outputs": [
    {
     "name": "stdin",
     "output_type": "stream",
     "text": [
      "enter the number: 9\n"
     ]
    }
   ],
   "source": [
    "#QUS4\n",
    "\n",
    "number = int(input(\"enter the number:\"))\n",
    "\n",
    "number=0\n",
    "\n",
    "while number<=10:\n",
    "    \n",
    "    number = number/3\n",
    "    \n",
    "    number += 1\n",
    "    \n",
    "print(\"the number can be divided by 3 is\" , number, \"time before it less than or equal to 10.\" )"
   ]
  },
  {
   "cell_type": "code",
   "execution_count": 1,
   "id": "ea3479b7-451b-4420-97c6-4a3e43968e25",
   "metadata": {},
   "outputs": [
    {
     "name": "stdout",
     "output_type": "stream",
     "text": [
      "11\n",
      "10\n",
      "9\n",
      "8\n",
      "7\n",
      "6\n",
      "5\n",
      "4\n",
      "3\n",
      "2\n",
      "1\n"
     ]
    }
   ],
   "source": [
    "#QUS8\n",
    "upperBound=11\n",
    "lowerBound=1\n",
    "while upperBound>=lowerBound:\n",
    "    print(upperBound)\n",
    "    upperBound -=1"
   ]
  },
  {
   "cell_type": "code",
   "execution_count": null,
   "id": "0255b8d0-f37b-4575-a251-00e040445f50",
   "metadata": {},
   "outputs": [],
   "source": []
  }
 ],
 "metadata": {
  "kernelspec": {
   "display_name": "Python 3 (ipykernel)",
   "language": "python",
   "name": "python3"
  },
  "language_info": {
   "codemirror_mode": {
    "name": "ipython",
    "version": 3
   },
   "file_extension": ".py",
   "mimetype": "text/x-python",
   "name": "python",
   "nbconvert_exporter": "python",
   "pygments_lexer": "ipython3",
   "version": "3.10.8"
  }
 },
 "nbformat": 4,
 "nbformat_minor": 5
}
